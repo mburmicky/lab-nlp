{
 "cells": [
  {
   "cell_type": "code",
   "execution_count": 1,
   "id": "0a9669d4",
   "metadata": {},
   "outputs": [],
   "source": [
    "import sys\n",
    "import io\n",
    "import os\n",
    "import argparse\n",
    "import nbformat\n",
    "\n",
    "\n",
    "def remove_outputs(nb):\n",
    "    for cell in nb.cells:\n",
    "        if cell.cell_type == 'code':\n",
    "            cell.outputs = []\n",
    "\n",
    "def clear_notebook(old_ipynb, new_ipynb):\n",
    "    with io.open(old_ipynb, 'r') as f:\n",
    "        nb = nbformat.read(f, nbformat.NO_CONVERT)\n",
    "        remove_outputs(nb)\n",
    "    with io.open(new_ipynb, 'w', encoding='utf8') as f: \n",
    "\n",
    "        nbformat.write(nb, f, nbformat.NO_CONVERT)\n",
    "\n",
    "#change notebook name here\n",
    "\n",
    "#old_ipynb is the name of the large notebook\n",
    "\n",
    "old_ipynb = \"challenge-2.ipynb\"\n",
    "\n",
    "new_ipynb = \"new.ipynb\"\n",
    "\n",
    "clear_notebook(old_ipynb, new_ipynb)"
   ]
  },
  {
   "cell_type": "code",
   "execution_count": null,
   "id": "9f1a905b",
   "metadata": {},
   "outputs": [],
   "source": []
  }
 ],
 "metadata": {
  "kernelspec": {
   "display_name": "Python 3 (ipykernel)",
   "language": "python",
   "name": "python3"
  },
  "language_info": {
   "codemirror_mode": {
    "name": "ipython",
    "version": 3
   },
   "file_extension": ".py",
   "mimetype": "text/x-python",
   "name": "python",
   "nbconvert_exporter": "python",
   "pygments_lexer": "ipython3",
   "version": "3.11.5"
  }
 },
 "nbformat": 4,
 "nbformat_minor": 5
}
